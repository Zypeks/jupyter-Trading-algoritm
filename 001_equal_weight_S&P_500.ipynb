{
 "cells": [
  {
   "cell_type": "markdown",
   "metadata": {},
   "source": [
    "# Equal-Weight S&P 500 Index Fund\n",
    "\n",
    "## Introduction & Library Imports\n",
    "\n",
    "The S&P 500 is the world's most popular stock market index. The largest fund that is benchmarked to this index is the SPDR® S&P 500® ETF Trust. It has more than US$250 billion of assets under management.\n",
    "\n",
    "The goal of this section of the course is to create a Python script that will accept the value of your portfolio and tell you how many shares of each S&P 500 constituent you should purchase to get an equal-weight version of the index fund.\n",
    "\n",
    "## Library Imports\n",
    "\n",
    "The first thing we need to do is import the open-source software libraries that we'll be using in this tutorial."
   ]
  },
  {
   "cell_type": "code",
   "execution_count": 1,
   "metadata": {},
   "outputs": [],
   "source": [
    "import numpy as np\n",
    "import pandas as pd\n",
    "import requests \n",
    "import xlsxwriter\n",
    "import math"
   ]
  },
  {
   "cell_type": "markdown",
   "metadata": {},
   "source": [
    "## Importing Our List of Stocks\n",
    "\n",
    "The next thing we need to do is import the constituents of the S&P 500.\n",
    "\n",
    "These constituents change over time, so in an ideal world you would connect directly to the index provider (Standard & Poor's) and pull their real-time constituents on a regular basis.\n",
    "\n",
    "Paying for access to the index provider's API is outside of the scope of this course. \n",
    "\n",
    "There's a static version of the S&P 500 constituents available here. [Click this link to download them now](https://drive.google.com/file/d/1ZJSpbY69DVckVZlO9cC6KkgfSufybcHN/view?usp=sharing). Move this file into the `starter-files` folder so it can be accessed by other files in that directory.\n",
    "\n",
    "Now it's time to import these stocks to our Jupyter Notebook file."
   ]
  },
  {
   "cell_type": "code",
   "execution_count": null,
   "metadata": {},
   "outputs": [],
   "source": [
    "stocks = pd.read_csv('sp_500_stocks.csv')\n"
   ]
  },
  {
   "cell_type": "markdown",
   "metadata": {},
   "source": [
    "## Acquiring an API Token\n",
    "\n",
    "Now it's time to import our IEX Cloud API token. This is the data provider that we will be using throughout this course.\n",
    "\n",
    "API tokens (and other sensitive information) should be stored in a `secrets.py` file that doesn't get pushed to your local Git repository. We'll be using a sandbox API token in this course, which means that the data we'll use is randomly-generated and (more importantly) has no cost associated with it.\n",
    "\n",
    "[Click here](http://nickmccullum.com/algorithmic-trading-python/secrets.py) to download your `secrets.py` file. Move the file into the same directory as this Jupyter Notebook before proceeding."
   ]
  },
  {
   "cell_type": "code",
   "execution_count": 3,
   "metadata": {},
   "outputs": [],
   "source": [
    "from secretss import IEX_CLOUD_API_TOKEN"
   ]
  },
  {
   "cell_type": "markdown",
   "metadata": {},
   "source": [
    "## Making Our First API Call\n",
    "\n",
    "Now it's time to structure our API calls to IEX cloud. \n",
    "\n",
    "We need the following information from the API:\n",
    "\n",
    "* Market capitalization for each stock\n",
    "* Price of each stock\n",
    "\n"
   ]
  },
  {
   "cell_type": "code",
   "execution_count": 4,
   "metadata": {},
   "outputs": [],
   "source": [
    "symbol = 'AAPL'\n",
    "api_url = f'https://sandbox.iexapis.com/stable/stock/{symbol}/quote/?token={IEX_CLOUD_API_TOKEN}'\n",
    "data = requests.get(api_url).json()"
   ]
  },
  {
   "cell_type": "markdown",
   "metadata": {},
   "source": [
    "## Parsing Our API Call\n",
    "\n",
    "\n",
    "The API call that we executed in the last code block contains all of the information required to build our equal-weight S&P 500 strategy. \n",
    "\n",
    "With that said, the data isn't in a proper format yet. We need to parse it first."
   ]
  },
  {
   "cell_type": "code",
   "execution_count": 5,
   "metadata": {},
   "outputs": [],
   "source": [
    "price = data['latestPrice']\n",
    "market_cap = data['marketCap']"
   ]
  },
  {
   "cell_type": "markdown",
   "metadata": {},
   "source": [
    "## Adding Our Stocks Data to a Pandas DataFrame\n",
    "\n",
    "The next thing we need to do is add our stock's price and market capitalization to a pandas DataFrame. Think of a DataFrame like the Python version of a spreadsheet. It stores tabular data."
   ]
  },
  {
   "cell_type": "code",
   "execution_count": 6,
   "metadata": {},
   "outputs": [
    {
     "data": {
      "text/html": [
       "<div>\n",
       "<style scoped>\n",
       "    .dataframe tbody tr th:only-of-type {\n",
       "        vertical-align: middle;\n",
       "    }\n",
       "\n",
       "    .dataframe tbody tr th {\n",
       "        vertical-align: top;\n",
       "    }\n",
       "\n",
       "    .dataframe thead th {\n",
       "        text-align: right;\n",
       "    }\n",
       "</style>\n",
       "<table border=\"1\" class=\"dataframe\">\n",
       "  <thead>\n",
       "    <tr style=\"text-align: right;\">\n",
       "      <th></th>\n",
       "      <th>Ticker</th>\n",
       "      <th>Stock Price</th>\n",
       "      <th>Market Capitalization</th>\n",
       "      <th>Number of Shares to Buy</th>\n",
       "    </tr>\n",
       "  </thead>\n",
       "  <tbody>\n",
       "  </tbody>\n",
       "</table>\n",
       "</div>"
      ],
      "text/plain": [
       "Empty DataFrame\n",
       "Columns: [Ticker, Stock Price, Market Capitalization, Number of Shares to Buy]\n",
       "Index: []"
      ]
     },
     "execution_count": 6,
     "metadata": {},
     "output_type": "execute_result"
    }
   ],
   "source": [
    " my_columns = [ 'Ticker', 'Stock Price', 'Market Capitalization', 'Number of Shares to Buy']\n",
    "final_dataframe = pd.DataFrame(columns = my_columns)    \n",
    "final_dataframe"
   ]
  },
  {
   "cell_type": "code",
   "execution_count": 7,
   "metadata": {},
   "outputs": [
    {
     "name": "stderr",
     "output_type": "stream",
     "text": [
      "C:\\Users\\adrian\\AppData\\Local\\Temp\\ipykernel_18136\\876902853.py:1: FutureWarning: The frame.append method is deprecated and will be removed from pandas in a future version. Use pandas.concat instead.\n",
      "  final_dataframe.append(\n"
     ]
    },
    {
     "data": {
      "text/html": [
       "<div>\n",
       "<style scoped>\n",
       "    .dataframe tbody tr th:only-of-type {\n",
       "        vertical-align: middle;\n",
       "    }\n",
       "\n",
       "    .dataframe tbody tr th {\n",
       "        vertical-align: top;\n",
       "    }\n",
       "\n",
       "    .dataframe thead th {\n",
       "        text-align: right;\n",
       "    }\n",
       "</style>\n",
       "<table border=\"1\" class=\"dataframe\">\n",
       "  <thead>\n",
       "    <tr style=\"text-align: right;\">\n",
       "      <th></th>\n",
       "      <th>Ticker</th>\n",
       "      <th>Stock Price</th>\n",
       "      <th>Market Capitalization</th>\n",
       "      <th>Number of Shares to Buy</th>\n",
       "    </tr>\n",
       "  </thead>\n",
       "  <tbody>\n",
       "    <tr>\n",
       "      <th>0</th>\n",
       "      <td>AAPL</td>\n",
       "      <td>151.691</td>\n",
       "      <td>2412886503790</td>\n",
       "      <td>N/A</td>\n",
       "    </tr>\n",
       "  </tbody>\n",
       "</table>\n",
       "</div>"
      ],
      "text/plain": [
       "  Ticker  Stock Price Market Capitalization Number of Shares to Buy\n",
       "0   AAPL      151.691         2412886503790                     N/A"
      ]
     },
     "execution_count": 7,
     "metadata": {},
     "output_type": "execute_result"
    }
   ],
   "source": [
    "final_dataframe.append(\n",
    "    pd.Series(\n",
    "    [\n",
    "        symbol,\n",
    "        price,\n",
    "        market_cap,\n",
    "        'N/A'\n",
    "    ],\n",
    "    index = my_columns\n",
    "    ),\n",
    "    \n",
    "    ignore_index=True\n",
    ")"
   ]
  },
  {
   "cell_type": "markdown",
   "metadata": {},
   "source": [
    "## Looping Through The Tickers in Our List of Stocks\n",
    "\n",
    "Using the same logic that we outlined above, we can pull data for all S&P 500 stocks and store their data in the DataFrame using a `for` loop."
   ]
  },
  {
   "cell_type": "code",
   "execution_count": 8,
   "metadata": {},
   "outputs": [
    {
     "name": "stderr",
     "output_type": "stream",
     "text": [
      "C:\\Users\\adrian\\AppData\\Local\\Temp\\ipykernel_18136\\1837940555.py:5: FutureWarning: The frame.append method is deprecated and will be removed from pandas in a future version. Use pandas.concat instead.\n",
      "  final_dataframe = final_dataframe.append(\n",
      "C:\\Users\\adrian\\AppData\\Local\\Temp\\ipykernel_18136\\1837940555.py:5: FutureWarning: The frame.append method is deprecated and will be removed from pandas in a future version. Use pandas.concat instead.\n",
      "  final_dataframe = final_dataframe.append(\n",
      "C:\\Users\\adrian\\AppData\\Local\\Temp\\ipykernel_18136\\1837940555.py:5: FutureWarning: The frame.append method is deprecated and will be removed from pandas in a future version. Use pandas.concat instead.\n",
      "  final_dataframe = final_dataframe.append(\n",
      "C:\\Users\\adrian\\AppData\\Local\\Temp\\ipykernel_18136\\1837940555.py:5: FutureWarning: The frame.append method is deprecated and will be removed from pandas in a future version. Use pandas.concat instead.\n",
      "  final_dataframe = final_dataframe.append(\n",
      "C:\\Users\\adrian\\AppData\\Local\\Temp\\ipykernel_18136\\1837940555.py:5: FutureWarning: The frame.append method is deprecated and will be removed from pandas in a future version. Use pandas.concat instead.\n",
      "  final_dataframe = final_dataframe.append(\n",
      "C:\\Users\\adrian\\AppData\\Local\\Temp\\ipykernel_18136\\1837940555.py:5: FutureWarning: The frame.append method is deprecated and will be removed from pandas in a future version. Use pandas.concat instead.\n",
      "  final_dataframe = final_dataframe.append(\n",
      "C:\\Users\\adrian\\AppData\\Local\\Temp\\ipykernel_18136\\1837940555.py:5: FutureWarning: The frame.append method is deprecated and will be removed from pandas in a future version. Use pandas.concat instead.\n",
      "  final_dataframe = final_dataframe.append(\n",
      "C:\\Users\\adrian\\AppData\\Local\\Temp\\ipykernel_18136\\1837940555.py:5: FutureWarning: The frame.append method is deprecated and will be removed from pandas in a future version. Use pandas.concat instead.\n",
      "  final_dataframe = final_dataframe.append(\n",
      "C:\\Users\\adrian\\AppData\\Local\\Temp\\ipykernel_18136\\1837940555.py:5: FutureWarning: The frame.append method is deprecated and will be removed from pandas in a future version. Use pandas.concat instead.\n",
      "  final_dataframe = final_dataframe.append(\n",
      "C:\\Users\\adrian\\AppData\\Local\\Temp\\ipykernel_18136\\1837940555.py:5: FutureWarning: The frame.append method is deprecated and will be removed from pandas in a future version. Use pandas.concat instead.\n",
      "  final_dataframe = final_dataframe.append(\n",
      "C:\\Users\\adrian\\AppData\\Local\\Temp\\ipykernel_18136\\1837940555.py:5: FutureWarning: The frame.append method is deprecated and will be removed from pandas in a future version. Use pandas.concat instead.\n",
      "  final_dataframe = final_dataframe.append(\n",
      "C:\\Users\\adrian\\AppData\\Local\\Temp\\ipykernel_18136\\1837940555.py:5: FutureWarning: The frame.append method is deprecated and will be removed from pandas in a future version. Use pandas.concat instead.\n",
      "  final_dataframe = final_dataframe.append(\n",
      "C:\\Users\\adrian\\AppData\\Local\\Temp\\ipykernel_18136\\1837940555.py:5: FutureWarning: The frame.append method is deprecated and will be removed from pandas in a future version. Use pandas.concat instead.\n",
      "  final_dataframe = final_dataframe.append(\n",
      "C:\\Users\\adrian\\AppData\\Local\\Temp\\ipykernel_18136\\1837940555.py:5: FutureWarning: The frame.append method is deprecated and will be removed from pandas in a future version. Use pandas.concat instead.\n",
      "  final_dataframe = final_dataframe.append(\n",
      "C:\\Users\\adrian\\AppData\\Local\\Temp\\ipykernel_18136\\1837940555.py:5: FutureWarning: The frame.append method is deprecated and will be removed from pandas in a future version. Use pandas.concat instead.\n",
      "  final_dataframe = final_dataframe.append(\n",
      "C:\\Users\\adrian\\AppData\\Local\\Temp\\ipykernel_18136\\1837940555.py:5: FutureWarning: The frame.append method is deprecated and will be removed from pandas in a future version. Use pandas.concat instead.\n",
      "  final_dataframe = final_dataframe.append(\n",
      "C:\\Users\\adrian\\AppData\\Local\\Temp\\ipykernel_18136\\1837940555.py:5: FutureWarning: The frame.append method is deprecated and will be removed from pandas in a future version. Use pandas.concat instead.\n",
      "  final_dataframe = final_dataframe.append(\n",
      "C:\\Users\\adrian\\AppData\\Local\\Temp\\ipykernel_18136\\1837940555.py:5: FutureWarning: The frame.append method is deprecated and will be removed from pandas in a future version. Use pandas.concat instead.\n",
      "  final_dataframe = final_dataframe.append(\n",
      "C:\\Users\\adrian\\AppData\\Local\\Temp\\ipykernel_18136\\1837940555.py:5: FutureWarning: The frame.append method is deprecated and will be removed from pandas in a future version. Use pandas.concat instead.\n",
      "  final_dataframe = final_dataframe.append(\n",
      "C:\\Users\\adrian\\AppData\\Local\\Temp\\ipykernel_18136\\1837940555.py:5: FutureWarning: The frame.append method is deprecated and will be removed from pandas in a future version. Use pandas.concat instead.\n",
      "  final_dataframe = final_dataframe.append(\n",
      "C:\\Users\\adrian\\AppData\\Local\\Temp\\ipykernel_18136\\1837940555.py:5: FutureWarning: The frame.append method is deprecated and will be removed from pandas in a future version. Use pandas.concat instead.\n",
      "  final_dataframe = final_dataframe.append(\n",
      "C:\\Users\\adrian\\AppData\\Local\\Temp\\ipykernel_18136\\1837940555.py:5: FutureWarning: The frame.append method is deprecated and will be removed from pandas in a future version. Use pandas.concat instead.\n",
      "  final_dataframe = final_dataframe.append(\n",
      "C:\\Users\\adrian\\AppData\\Local\\Temp\\ipykernel_18136\\1837940555.py:5: FutureWarning: The frame.append method is deprecated and will be removed from pandas in a future version. Use pandas.concat instead.\n",
      "  final_dataframe = final_dataframe.append(\n",
      "C:\\Users\\adrian\\AppData\\Local\\Temp\\ipykernel_18136\\1837940555.py:5: FutureWarning: The frame.append method is deprecated and will be removed from pandas in a future version. Use pandas.concat instead.\n",
      "  final_dataframe = final_dataframe.append(\n",
      "C:\\Users\\adrian\\AppData\\Local\\Temp\\ipykernel_18136\\1837940555.py:5: FutureWarning: The frame.append method is deprecated and will be removed from pandas in a future version. Use pandas.concat instead.\n",
      "  final_dataframe = final_dataframe.append(\n",
      "C:\\Users\\adrian\\AppData\\Local\\Temp\\ipykernel_18136\\1837940555.py:5: FutureWarning: The frame.append method is deprecated and will be removed from pandas in a future version. Use pandas.concat instead.\n",
      "  final_dataframe = final_dataframe.append(\n",
      "C:\\Users\\adrian\\AppData\\Local\\Temp\\ipykernel_18136\\1837940555.py:5: FutureWarning: The frame.append method is deprecated and will be removed from pandas in a future version. Use pandas.concat instead.\n",
      "  final_dataframe = final_dataframe.append(\n",
      "C:\\Users\\adrian\\AppData\\Local\\Temp\\ipykernel_18136\\1837940555.py:5: FutureWarning: The frame.append method is deprecated and will be removed from pandas in a future version. Use pandas.concat instead.\n",
      "  final_dataframe = final_dataframe.append(\n",
      "C:\\Users\\adrian\\AppData\\Local\\Temp\\ipykernel_18136\\1837940555.py:5: FutureWarning: The frame.append method is deprecated and will be removed from pandas in a future version. Use pandas.concat instead.\n",
      "  final_dataframe = final_dataframe.append(\n",
      "C:\\Users\\adrian\\AppData\\Local\\Temp\\ipykernel_18136\\1837940555.py:5: FutureWarning: The frame.append method is deprecated and will be removed from pandas in a future version. Use pandas.concat instead.\n",
      "  final_dataframe = final_dataframe.append(\n",
      "C:\\Users\\adrian\\AppData\\Local\\Temp\\ipykernel_18136\\1837940555.py:5: FutureWarning: The frame.append method is deprecated and will be removed from pandas in a future version. Use pandas.concat instead.\n",
      "  final_dataframe = final_dataframe.append(\n",
      "C:\\Users\\adrian\\AppData\\Local\\Temp\\ipykernel_18136\\1837940555.py:5: FutureWarning: The frame.append method is deprecated and will be removed from pandas in a future version. Use pandas.concat instead.\n",
      "  final_dataframe = final_dataframe.append(\n",
      "C:\\Users\\adrian\\AppData\\Local\\Temp\\ipykernel_18136\\1837940555.py:5: FutureWarning: The frame.append method is deprecated and will be removed from pandas in a future version. Use pandas.concat instead.\n",
      "  final_dataframe = final_dataframe.append(\n",
      "C:\\Users\\adrian\\AppData\\Local\\Temp\\ipykernel_18136\\1837940555.py:5: FutureWarning: The frame.append method is deprecated and will be removed from pandas in a future version. Use pandas.concat instead.\n",
      "  final_dataframe = final_dataframe.append(\n"
     ]
    },
    {
     "name": "stderr",
     "output_type": "stream",
     "text": [
      "C:\\Users\\adrian\\AppData\\Local\\Temp\\ipykernel_18136\\1837940555.py:5: FutureWarning: The frame.append method is deprecated and will be removed from pandas in a future version. Use pandas.concat instead.\n",
      "  final_dataframe = final_dataframe.append(\n",
      "C:\\Users\\adrian\\AppData\\Local\\Temp\\ipykernel_18136\\1837940555.py:5: FutureWarning: The frame.append method is deprecated and will be removed from pandas in a future version. Use pandas.concat instead.\n",
      "  final_dataframe = final_dataframe.append(\n",
      "C:\\Users\\adrian\\AppData\\Local\\Temp\\ipykernel_18136\\1837940555.py:5: FutureWarning: The frame.append method is deprecated and will be removed from pandas in a future version. Use pandas.concat instead.\n",
      "  final_dataframe = final_dataframe.append(\n",
      "C:\\Users\\adrian\\AppData\\Local\\Temp\\ipykernel_18136\\1837940555.py:5: FutureWarning: The frame.append method is deprecated and will be removed from pandas in a future version. Use pandas.concat instead.\n",
      "  final_dataframe = final_dataframe.append(\n",
      "C:\\Users\\adrian\\AppData\\Local\\Temp\\ipykernel_18136\\1837940555.py:5: FutureWarning: The frame.append method is deprecated and will be removed from pandas in a future version. Use pandas.concat instead.\n",
      "  final_dataframe = final_dataframe.append(\n",
      "C:\\Users\\adrian\\AppData\\Local\\Temp\\ipykernel_18136\\1837940555.py:5: FutureWarning: The frame.append method is deprecated and will be removed from pandas in a future version. Use pandas.concat instead.\n",
      "  final_dataframe = final_dataframe.append(\n",
      "C:\\Users\\adrian\\AppData\\Local\\Temp\\ipykernel_18136\\1837940555.py:5: FutureWarning: The frame.append method is deprecated and will be removed from pandas in a future version. Use pandas.concat instead.\n",
      "  final_dataframe = final_dataframe.append(\n",
      "C:\\Users\\adrian\\AppData\\Local\\Temp\\ipykernel_18136\\1837940555.py:5: FutureWarning: The frame.append method is deprecated and will be removed from pandas in a future version. Use pandas.concat instead.\n",
      "  final_dataframe = final_dataframe.append(\n",
      "C:\\Users\\adrian\\AppData\\Local\\Temp\\ipykernel_18136\\1837940555.py:5: FutureWarning: The frame.append method is deprecated and will be removed from pandas in a future version. Use pandas.concat instead.\n",
      "  final_dataframe = final_dataframe.append(\n",
      "C:\\Users\\adrian\\AppData\\Local\\Temp\\ipykernel_18136\\1837940555.py:5: FutureWarning: The frame.append method is deprecated and will be removed from pandas in a future version. Use pandas.concat instead.\n",
      "  final_dataframe = final_dataframe.append(\n",
      "C:\\Users\\adrian\\AppData\\Local\\Temp\\ipykernel_18136\\1837940555.py:5: FutureWarning: The frame.append method is deprecated and will be removed from pandas in a future version. Use pandas.concat instead.\n",
      "  final_dataframe = final_dataframe.append(\n",
      "C:\\Users\\adrian\\AppData\\Local\\Temp\\ipykernel_18136\\1837940555.py:5: FutureWarning: The frame.append method is deprecated and will be removed from pandas in a future version. Use pandas.concat instead.\n",
      "  final_dataframe = final_dataframe.append(\n",
      "C:\\Users\\adrian\\AppData\\Local\\Temp\\ipykernel_18136\\1837940555.py:5: FutureWarning: The frame.append method is deprecated and will be removed from pandas in a future version. Use pandas.concat instead.\n",
      "  final_dataframe = final_dataframe.append(\n",
      "C:\\Users\\adrian\\AppData\\Local\\Temp\\ipykernel_18136\\1837940555.py:5: FutureWarning: The frame.append method is deprecated and will be removed from pandas in a future version. Use pandas.concat instead.\n",
      "  final_dataframe = final_dataframe.append(\n",
      "C:\\Users\\adrian\\AppData\\Local\\Temp\\ipykernel_18136\\1837940555.py:5: FutureWarning: The frame.append method is deprecated and will be removed from pandas in a future version. Use pandas.concat instead.\n",
      "  final_dataframe = final_dataframe.append(\n",
      "C:\\Users\\adrian\\AppData\\Local\\Temp\\ipykernel_18136\\1837940555.py:5: FutureWarning: The frame.append method is deprecated and will be removed from pandas in a future version. Use pandas.concat instead.\n",
      "  final_dataframe = final_dataframe.append(\n",
      "C:\\Users\\adrian\\AppData\\Local\\Temp\\ipykernel_18136\\1837940555.py:5: FutureWarning: The frame.append method is deprecated and will be removed from pandas in a future version. Use pandas.concat instead.\n",
      "  final_dataframe = final_dataframe.append(\n",
      "C:\\Users\\adrian\\AppData\\Local\\Temp\\ipykernel_18136\\1837940555.py:5: FutureWarning: The frame.append method is deprecated and will be removed from pandas in a future version. Use pandas.concat instead.\n",
      "  final_dataframe = final_dataframe.append(\n",
      "C:\\Users\\adrian\\AppData\\Local\\Temp\\ipykernel_18136\\1837940555.py:5: FutureWarning: The frame.append method is deprecated and will be removed from pandas in a future version. Use pandas.concat instead.\n",
      "  final_dataframe = final_dataframe.append(\n",
      "C:\\Users\\adrian\\AppData\\Local\\Temp\\ipykernel_18136\\1837940555.py:5: FutureWarning: The frame.append method is deprecated and will be removed from pandas in a future version. Use pandas.concat instead.\n",
      "  final_dataframe = final_dataframe.append(\n",
      "C:\\Users\\adrian\\AppData\\Local\\Temp\\ipykernel_18136\\1837940555.py:5: FutureWarning: The frame.append method is deprecated and will be removed from pandas in a future version. Use pandas.concat instead.\n",
      "  final_dataframe = final_dataframe.append(\n",
      "C:\\Users\\adrian\\AppData\\Local\\Temp\\ipykernel_18136\\1837940555.py:5: FutureWarning: The frame.append method is deprecated and will be removed from pandas in a future version. Use pandas.concat instead.\n",
      "  final_dataframe = final_dataframe.append(\n",
      "C:\\Users\\adrian\\AppData\\Local\\Temp\\ipykernel_18136\\1837940555.py:5: FutureWarning: The frame.append method is deprecated and will be removed from pandas in a future version. Use pandas.concat instead.\n",
      "  final_dataframe = final_dataframe.append(\n",
      "C:\\Users\\adrian\\AppData\\Local\\Temp\\ipykernel_18136\\1837940555.py:5: FutureWarning: The frame.append method is deprecated and will be removed from pandas in a future version. Use pandas.concat instead.\n",
      "  final_dataframe = final_dataframe.append(\n",
      "C:\\Users\\adrian\\AppData\\Local\\Temp\\ipykernel_18136\\1837940555.py:5: FutureWarning: The frame.append method is deprecated and will be removed from pandas in a future version. Use pandas.concat instead.\n",
      "  final_dataframe = final_dataframe.append(\n",
      "C:\\Users\\adrian\\AppData\\Local\\Temp\\ipykernel_18136\\1837940555.py:5: FutureWarning: The frame.append method is deprecated and will be removed from pandas in a future version. Use pandas.concat instead.\n",
      "  final_dataframe = final_dataframe.append(\n",
      "C:\\Users\\adrian\\AppData\\Local\\Temp\\ipykernel_18136\\1837940555.py:5: FutureWarning: The frame.append method is deprecated and will be removed from pandas in a future version. Use pandas.concat instead.\n",
      "  final_dataframe = final_dataframe.append(\n",
      "C:\\Users\\adrian\\AppData\\Local\\Temp\\ipykernel_18136\\1837940555.py:5: FutureWarning: The frame.append method is deprecated and will be removed from pandas in a future version. Use pandas.concat instead.\n",
      "  final_dataframe = final_dataframe.append(\n",
      "C:\\Users\\adrian\\AppData\\Local\\Temp\\ipykernel_18136\\1837940555.py:5: FutureWarning: The frame.append method is deprecated and will be removed from pandas in a future version. Use pandas.concat instead.\n",
      "  final_dataframe = final_dataframe.append(\n",
      "C:\\Users\\adrian\\AppData\\Local\\Temp\\ipykernel_18136\\1837940555.py:5: FutureWarning: The frame.append method is deprecated and will be removed from pandas in a future version. Use pandas.concat instead.\n",
      "  final_dataframe = final_dataframe.append(\n",
      "C:\\Users\\adrian\\AppData\\Local\\Temp\\ipykernel_18136\\1837940555.py:5: FutureWarning: The frame.append method is deprecated and will be removed from pandas in a future version. Use pandas.concat instead.\n",
      "  final_dataframe = final_dataframe.append(\n",
      "C:\\Users\\adrian\\AppData\\Local\\Temp\\ipykernel_18136\\1837940555.py:5: FutureWarning: The frame.append method is deprecated and will be removed from pandas in a future version. Use pandas.concat instead.\n",
      "  final_dataframe = final_dataframe.append(\n",
      "C:\\Users\\adrian\\AppData\\Local\\Temp\\ipykernel_18136\\1837940555.py:5: FutureWarning: The frame.append method is deprecated and will be removed from pandas in a future version. Use pandas.concat instead.\n",
      "  final_dataframe = final_dataframe.append(\n",
      "C:\\Users\\adrian\\AppData\\Local\\Temp\\ipykernel_18136\\1837940555.py:5: FutureWarning: The frame.append method is deprecated and will be removed from pandas in a future version. Use pandas.concat instead.\n",
      "  final_dataframe = final_dataframe.append(\n"
     ]
    },
    {
     "name": "stderr",
     "output_type": "stream",
     "text": [
      "C:\\Users\\adrian\\AppData\\Local\\Temp\\ipykernel_18136\\1837940555.py:5: FutureWarning: The frame.append method is deprecated and will be removed from pandas in a future version. Use pandas.concat instead.\n",
      "  final_dataframe = final_dataframe.append(\n",
      "C:\\Users\\adrian\\AppData\\Local\\Temp\\ipykernel_18136\\1837940555.py:5: FutureWarning: The frame.append method is deprecated and will be removed from pandas in a future version. Use pandas.concat instead.\n",
      "  final_dataframe = final_dataframe.append(\n",
      "C:\\Users\\adrian\\AppData\\Local\\Temp\\ipykernel_18136\\1837940555.py:5: FutureWarning: The frame.append method is deprecated and will be removed from pandas in a future version. Use pandas.concat instead.\n",
      "  final_dataframe = final_dataframe.append(\n",
      "C:\\Users\\adrian\\AppData\\Local\\Temp\\ipykernel_18136\\1837940555.py:5: FutureWarning: The frame.append method is deprecated and will be removed from pandas in a future version. Use pandas.concat instead.\n",
      "  final_dataframe = final_dataframe.append(\n",
      "C:\\Users\\adrian\\AppData\\Local\\Temp\\ipykernel_18136\\1837940555.py:5: FutureWarning: The frame.append method is deprecated and will be removed from pandas in a future version. Use pandas.concat instead.\n",
      "  final_dataframe = final_dataframe.append(\n",
      "C:\\Users\\adrian\\AppData\\Local\\Temp\\ipykernel_18136\\1837940555.py:5: FutureWarning: The frame.append method is deprecated and will be removed from pandas in a future version. Use pandas.concat instead.\n",
      "  final_dataframe = final_dataframe.append(\n",
      "C:\\Users\\adrian\\AppData\\Local\\Temp\\ipykernel_18136\\1837940555.py:5: FutureWarning: The frame.append method is deprecated and will be removed from pandas in a future version. Use pandas.concat instead.\n",
      "  final_dataframe = final_dataframe.append(\n",
      "C:\\Users\\adrian\\AppData\\Local\\Temp\\ipykernel_18136\\1837940555.py:5: FutureWarning: The frame.append method is deprecated and will be removed from pandas in a future version. Use pandas.concat instead.\n",
      "  final_dataframe = final_dataframe.append(\n",
      "C:\\Users\\adrian\\AppData\\Local\\Temp\\ipykernel_18136\\1837940555.py:5: FutureWarning: The frame.append method is deprecated and will be removed from pandas in a future version. Use pandas.concat instead.\n",
      "  final_dataframe = final_dataframe.append(\n",
      "C:\\Users\\adrian\\AppData\\Local\\Temp\\ipykernel_18136\\1837940555.py:5: FutureWarning: The frame.append method is deprecated and will be removed from pandas in a future version. Use pandas.concat instead.\n",
      "  final_dataframe = final_dataframe.append(\n",
      "C:\\Users\\adrian\\AppData\\Local\\Temp\\ipykernel_18136\\1837940555.py:5: FutureWarning: The frame.append method is deprecated and will be removed from pandas in a future version. Use pandas.concat instead.\n",
      "  final_dataframe = final_dataframe.append(\n",
      "C:\\Users\\adrian\\AppData\\Local\\Temp\\ipykernel_18136\\1837940555.py:5: FutureWarning: The frame.append method is deprecated and will be removed from pandas in a future version. Use pandas.concat instead.\n",
      "  final_dataframe = final_dataframe.append(\n",
      "C:\\Users\\adrian\\AppData\\Local\\Temp\\ipykernel_18136\\1837940555.py:5: FutureWarning: The frame.append method is deprecated and will be removed from pandas in a future version. Use pandas.concat instead.\n",
      "  final_dataframe = final_dataframe.append(\n",
      "C:\\Users\\adrian\\AppData\\Local\\Temp\\ipykernel_18136\\1837940555.py:5: FutureWarning: The frame.append method is deprecated and will be removed from pandas in a future version. Use pandas.concat instead.\n",
      "  final_dataframe = final_dataframe.append(\n",
      "C:\\Users\\adrian\\AppData\\Local\\Temp\\ipykernel_18136\\1837940555.py:5: FutureWarning: The frame.append method is deprecated and will be removed from pandas in a future version. Use pandas.concat instead.\n",
      "  final_dataframe = final_dataframe.append(\n",
      "C:\\Users\\adrian\\AppData\\Local\\Temp\\ipykernel_18136\\1837940555.py:5: FutureWarning: The frame.append method is deprecated and will be removed from pandas in a future version. Use pandas.concat instead.\n",
      "  final_dataframe = final_dataframe.append(\n",
      "C:\\Users\\adrian\\AppData\\Local\\Temp\\ipykernel_18136\\1837940555.py:5: FutureWarning: The frame.append method is deprecated and will be removed from pandas in a future version. Use pandas.concat instead.\n",
      "  final_dataframe = final_dataframe.append(\n",
      "C:\\Users\\adrian\\AppData\\Local\\Temp\\ipykernel_18136\\1837940555.py:5: FutureWarning: The frame.append method is deprecated and will be removed from pandas in a future version. Use pandas.concat instead.\n",
      "  final_dataframe = final_dataframe.append(\n",
      "C:\\Users\\adrian\\AppData\\Local\\Temp\\ipykernel_18136\\1837940555.py:5: FutureWarning: The frame.append method is deprecated and will be removed from pandas in a future version. Use pandas.concat instead.\n",
      "  final_dataframe = final_dataframe.append(\n",
      "C:\\Users\\adrian\\AppData\\Local\\Temp\\ipykernel_18136\\1837940555.py:5: FutureWarning: The frame.append method is deprecated and will be removed from pandas in a future version. Use pandas.concat instead.\n",
      "  final_dataframe = final_dataframe.append(\n",
      "C:\\Users\\adrian\\AppData\\Local\\Temp\\ipykernel_18136\\1837940555.py:5: FutureWarning: The frame.append method is deprecated and will be removed from pandas in a future version. Use pandas.concat instead.\n",
      "  final_dataframe = final_dataframe.append(\n",
      "C:\\Users\\adrian\\AppData\\Local\\Temp\\ipykernel_18136\\1837940555.py:5: FutureWarning: The frame.append method is deprecated and will be removed from pandas in a future version. Use pandas.concat instead.\n",
      "  final_dataframe = final_dataframe.append(\n",
      "C:\\Users\\adrian\\AppData\\Local\\Temp\\ipykernel_18136\\1837940555.py:5: FutureWarning: The frame.append method is deprecated and will be removed from pandas in a future version. Use pandas.concat instead.\n",
      "  final_dataframe = final_dataframe.append(\n",
      "C:\\Users\\adrian\\AppData\\Local\\Temp\\ipykernel_18136\\1837940555.py:5: FutureWarning: The frame.append method is deprecated and will be removed from pandas in a future version. Use pandas.concat instead.\n",
      "  final_dataframe = final_dataframe.append(\n",
      "C:\\Users\\adrian\\AppData\\Local\\Temp\\ipykernel_18136\\1837940555.py:5: FutureWarning: The frame.append method is deprecated and will be removed from pandas in a future version. Use pandas.concat instead.\n",
      "  final_dataframe = final_dataframe.append(\n",
      "C:\\Users\\adrian\\AppData\\Local\\Temp\\ipykernel_18136\\1837940555.py:5: FutureWarning: The frame.append method is deprecated and will be removed from pandas in a future version. Use pandas.concat instead.\n",
      "  final_dataframe = final_dataframe.append(\n",
      "C:\\Users\\adrian\\AppData\\Local\\Temp\\ipykernel_18136\\1837940555.py:5: FutureWarning: The frame.append method is deprecated and will be removed from pandas in a future version. Use pandas.concat instead.\n",
      "  final_dataframe = final_dataframe.append(\n",
      "C:\\Users\\adrian\\AppData\\Local\\Temp\\ipykernel_18136\\1837940555.py:5: FutureWarning: The frame.append method is deprecated and will be removed from pandas in a future version. Use pandas.concat instead.\n",
      "  final_dataframe = final_dataframe.append(\n",
      "C:\\Users\\adrian\\AppData\\Local\\Temp\\ipykernel_18136\\1837940555.py:5: FutureWarning: The frame.append method is deprecated and will be removed from pandas in a future version. Use pandas.concat instead.\n",
      "  final_dataframe = final_dataframe.append(\n",
      "C:\\Users\\adrian\\AppData\\Local\\Temp\\ipykernel_18136\\1837940555.py:5: FutureWarning: The frame.append method is deprecated and will be removed from pandas in a future version. Use pandas.concat instead.\n",
      "  final_dataframe = final_dataframe.append(\n",
      "C:\\Users\\adrian\\AppData\\Local\\Temp\\ipykernel_18136\\1837940555.py:5: FutureWarning: The frame.append method is deprecated and will be removed from pandas in a future version. Use pandas.concat instead.\n",
      "  final_dataframe = final_dataframe.append(\n",
      "C:\\Users\\adrian\\AppData\\Local\\Temp\\ipykernel_18136\\1837940555.py:5: FutureWarning: The frame.append method is deprecated and will be removed from pandas in a future version. Use pandas.concat instead.\n",
      "  final_dataframe = final_dataframe.append(\n",
      "C:\\Users\\adrian\\AppData\\Local\\Temp\\ipykernel_18136\\1837940555.py:5: FutureWarning: The frame.append method is deprecated and will be removed from pandas in a future version. Use pandas.concat instead.\n",
      "  final_dataframe = final_dataframe.append(\n",
      "C:\\Users\\adrian\\AppData\\Local\\Temp\\ipykernel_18136\\1837940555.py:5: FutureWarning: The frame.append method is deprecated and will be removed from pandas in a future version. Use pandas.concat instead.\n",
      "  final_dataframe = final_dataframe.append(\n"
     ]
    },
    {
     "name": "stderr",
     "output_type": "stream",
     "text": [
      "C:\\Users\\adrian\\AppData\\Local\\Temp\\ipykernel_18136\\1837940555.py:5: FutureWarning: The frame.append method is deprecated and will be removed from pandas in a future version. Use pandas.concat instead.\n",
      "  final_dataframe = final_dataframe.append(\n",
      "C:\\Users\\adrian\\AppData\\Local\\Temp\\ipykernel_18136\\1837940555.py:5: FutureWarning: The frame.append method is deprecated and will be removed from pandas in a future version. Use pandas.concat instead.\n",
      "  final_dataframe = final_dataframe.append(\n",
      "C:\\Users\\adrian\\AppData\\Local\\Temp\\ipykernel_18136\\1837940555.py:5: FutureWarning: The frame.append method is deprecated and will be removed from pandas in a future version. Use pandas.concat instead.\n",
      "  final_dataframe = final_dataframe.append(\n",
      "C:\\Users\\adrian\\AppData\\Local\\Temp\\ipykernel_18136\\1837940555.py:5: FutureWarning: The frame.append method is deprecated and will be removed from pandas in a future version. Use pandas.concat instead.\n",
      "  final_dataframe = final_dataframe.append(\n",
      "C:\\Users\\adrian\\AppData\\Local\\Temp\\ipykernel_18136\\1837940555.py:5: FutureWarning: The frame.append method is deprecated and will be removed from pandas in a future version. Use pandas.concat instead.\n",
      "  final_dataframe = final_dataframe.append(\n",
      "C:\\Users\\adrian\\AppData\\Local\\Temp\\ipykernel_18136\\1837940555.py:5: FutureWarning: The frame.append method is deprecated and will be removed from pandas in a future version. Use pandas.concat instead.\n",
      "  final_dataframe = final_dataframe.append(\n",
      "C:\\Users\\adrian\\AppData\\Local\\Temp\\ipykernel_18136\\1837940555.py:5: FutureWarning: The frame.append method is deprecated and will be removed from pandas in a future version. Use pandas.concat instead.\n",
      "  final_dataframe = final_dataframe.append(\n",
      "C:\\Users\\adrian\\AppData\\Local\\Temp\\ipykernel_18136\\1837940555.py:5: FutureWarning: The frame.append method is deprecated and will be removed from pandas in a future version. Use pandas.concat instead.\n",
      "  final_dataframe = final_dataframe.append(\n",
      "C:\\Users\\adrian\\AppData\\Local\\Temp\\ipykernel_18136\\1837940555.py:5: FutureWarning: The frame.append method is deprecated and will be removed from pandas in a future version. Use pandas.concat instead.\n",
      "  final_dataframe = final_dataframe.append(\n",
      "C:\\Users\\adrian\\AppData\\Local\\Temp\\ipykernel_18136\\1837940555.py:5: FutureWarning: The frame.append method is deprecated and will be removed from pandas in a future version. Use pandas.concat instead.\n",
      "  final_dataframe = final_dataframe.append(\n",
      "C:\\Users\\adrian\\AppData\\Local\\Temp\\ipykernel_18136\\1837940555.py:5: FutureWarning: The frame.append method is deprecated and will be removed from pandas in a future version. Use pandas.concat instead.\n",
      "  final_dataframe = final_dataframe.append(\n",
      "C:\\Users\\adrian\\AppData\\Local\\Temp\\ipykernel_18136\\1837940555.py:5: FutureWarning: The frame.append method is deprecated and will be removed from pandas in a future version. Use pandas.concat instead.\n",
      "  final_dataframe = final_dataframe.append(\n",
      "C:\\Users\\adrian\\AppData\\Local\\Temp\\ipykernel_18136\\1837940555.py:5: FutureWarning: The frame.append method is deprecated and will be removed from pandas in a future version. Use pandas.concat instead.\n",
      "  final_dataframe = final_dataframe.append(\n",
      "C:\\Users\\adrian\\AppData\\Local\\Temp\\ipykernel_18136\\1837940555.py:5: FutureWarning: The frame.append method is deprecated and will be removed from pandas in a future version. Use pandas.concat instead.\n",
      "  final_dataframe = final_dataframe.append(\n",
      "C:\\Users\\adrian\\AppData\\Local\\Temp\\ipykernel_18136\\1837940555.py:5: FutureWarning: The frame.append method is deprecated and will be removed from pandas in a future version. Use pandas.concat instead.\n",
      "  final_dataframe = final_dataframe.append(\n",
      "C:\\Users\\adrian\\AppData\\Local\\Temp\\ipykernel_18136\\1837940555.py:5: FutureWarning: The frame.append method is deprecated and will be removed from pandas in a future version. Use pandas.concat instead.\n",
      "  final_dataframe = final_dataframe.append(\n",
      "C:\\Users\\adrian\\AppData\\Local\\Temp\\ipykernel_18136\\1837940555.py:5: FutureWarning: The frame.append method is deprecated and will be removed from pandas in a future version. Use pandas.concat instead.\n",
      "  final_dataframe = final_dataframe.append(\n",
      "C:\\Users\\adrian\\AppData\\Local\\Temp\\ipykernel_18136\\1837940555.py:5: FutureWarning: The frame.append method is deprecated and will be removed from pandas in a future version. Use pandas.concat instead.\n",
      "  final_dataframe = final_dataframe.append(\n",
      "C:\\Users\\adrian\\AppData\\Local\\Temp\\ipykernel_18136\\1837940555.py:5: FutureWarning: The frame.append method is deprecated and will be removed from pandas in a future version. Use pandas.concat instead.\n",
      "  final_dataframe = final_dataframe.append(\n",
      "C:\\Users\\adrian\\AppData\\Local\\Temp\\ipykernel_18136\\1837940555.py:5: FutureWarning: The frame.append method is deprecated and will be removed from pandas in a future version. Use pandas.concat instead.\n",
      "  final_dataframe = final_dataframe.append(\n",
      "C:\\Users\\adrian\\AppData\\Local\\Temp\\ipykernel_18136\\1837940555.py:5: FutureWarning: The frame.append method is deprecated and will be removed from pandas in a future version. Use pandas.concat instead.\n",
      "  final_dataframe = final_dataframe.append(\n",
      "C:\\Users\\adrian\\AppData\\Local\\Temp\\ipykernel_18136\\1837940555.py:5: FutureWarning: The frame.append method is deprecated and will be removed from pandas in a future version. Use pandas.concat instead.\n",
      "  final_dataframe = final_dataframe.append(\n",
      "C:\\Users\\adrian\\AppData\\Local\\Temp\\ipykernel_18136\\1837940555.py:5: FutureWarning: The frame.append method is deprecated and will be removed from pandas in a future version. Use pandas.concat instead.\n",
      "  final_dataframe = final_dataframe.append(\n",
      "C:\\Users\\adrian\\AppData\\Local\\Temp\\ipykernel_18136\\1837940555.py:5: FutureWarning: The frame.append method is deprecated and will be removed from pandas in a future version. Use pandas.concat instead.\n",
      "  final_dataframe = final_dataframe.append(\n",
      "C:\\Users\\adrian\\AppData\\Local\\Temp\\ipykernel_18136\\1837940555.py:5: FutureWarning: The frame.append method is deprecated and will be removed from pandas in a future version. Use pandas.concat instead.\n",
      "  final_dataframe = final_dataframe.append(\n",
      "C:\\Users\\adrian\\AppData\\Local\\Temp\\ipykernel_18136\\1837940555.py:5: FutureWarning: The frame.append method is deprecated and will be removed from pandas in a future version. Use pandas.concat instead.\n",
      "  final_dataframe = final_dataframe.append(\n",
      "C:\\Users\\adrian\\AppData\\Local\\Temp\\ipykernel_18136\\1837940555.py:5: FutureWarning: The frame.append method is deprecated and will be removed from pandas in a future version. Use pandas.concat instead.\n",
      "  final_dataframe = final_dataframe.append(\n",
      "C:\\Users\\adrian\\AppData\\Local\\Temp\\ipykernel_18136\\1837940555.py:5: FutureWarning: The frame.append method is deprecated and will be removed from pandas in a future version. Use pandas.concat instead.\n",
      "  final_dataframe = final_dataframe.append(\n",
      "C:\\Users\\adrian\\AppData\\Local\\Temp\\ipykernel_18136\\1837940555.py:5: FutureWarning: The frame.append method is deprecated and will be removed from pandas in a future version. Use pandas.concat instead.\n",
      "  final_dataframe = final_dataframe.append(\n",
      "C:\\Users\\adrian\\AppData\\Local\\Temp\\ipykernel_18136\\1837940555.py:5: FutureWarning: The frame.append method is deprecated and will be removed from pandas in a future version. Use pandas.concat instead.\n",
      "  final_dataframe = final_dataframe.append(\n",
      "C:\\Users\\adrian\\AppData\\Local\\Temp\\ipykernel_18136\\1837940555.py:5: FutureWarning: The frame.append method is deprecated and will be removed from pandas in a future version. Use pandas.concat instead.\n",
      "  final_dataframe = final_dataframe.append(\n",
      "C:\\Users\\adrian\\AppData\\Local\\Temp\\ipykernel_18136\\1837940555.py:5: FutureWarning: The frame.append method is deprecated and will be removed from pandas in a future version. Use pandas.concat instead.\n",
      "  final_dataframe = final_dataframe.append(\n",
      "C:\\Users\\adrian\\AppData\\Local\\Temp\\ipykernel_18136\\1837940555.py:5: FutureWarning: The frame.append method is deprecated and will be removed from pandas in a future version. Use pandas.concat instead.\n",
      "  final_dataframe = final_dataframe.append(\n"
     ]
    },
    {
     "ename": "JSONDecodeError",
     "evalue": "Expecting value: line 1 column 1 (char 0)",
     "output_type": "error",
     "traceback": [
      "\u001b[1;31m---------------------------------------------------------------------------\u001b[0m",
      "\u001b[1;31mJSONDecodeError\u001b[0m                           Traceback (most recent call last)",
      "File \u001b[1;32m~\\AppData\\Local\\Packages\\PythonSoftwareFoundation.Python.3.10_qbz5n2kfra8p0\\LocalCache\\local-packages\\Python310\\site-packages\\requests\\models.py:960\u001b[0m, in \u001b[0;36mResponse.json\u001b[1;34m(self, **kwargs)\u001b[0m\n\u001b[0;32m    959\u001b[0m \u001b[38;5;28;01mtry\u001b[39;00m:\n\u001b[1;32m--> 960\u001b[0m     \u001b[38;5;28;01mreturn\u001b[39;00m complexjson\u001b[38;5;241m.\u001b[39mloads(\u001b[38;5;28mself\u001b[39m\u001b[38;5;241m.\u001b[39mcontent\u001b[38;5;241m.\u001b[39mdecode(encoding), \u001b[38;5;241m*\u001b[39m\u001b[38;5;241m*\u001b[39mkwargs)\n\u001b[0;32m    961\u001b[0m \u001b[38;5;28;01mexcept\u001b[39;00m \u001b[38;5;167;01mUnicodeDecodeError\u001b[39;00m:\n\u001b[0;32m    962\u001b[0m     \u001b[38;5;66;03m# Wrong UTF codec detected; usually because it's not UTF-8\u001b[39;00m\n\u001b[0;32m    963\u001b[0m     \u001b[38;5;66;03m# but some other 8-bit codec.  This is an RFC violation,\u001b[39;00m\n\u001b[0;32m    964\u001b[0m     \u001b[38;5;66;03m# and the server didn't bother to tell us what codec *was*\u001b[39;00m\n\u001b[0;32m    965\u001b[0m     \u001b[38;5;66;03m# used.\u001b[39;00m\n",
      "File \u001b[1;32mC:\\Program Files\\WindowsApps\\PythonSoftwareFoundation.Python.3.10_3.10.2288.0_x64__qbz5n2kfra8p0\\lib\\json\\__init__.py:346\u001b[0m, in \u001b[0;36mloads\u001b[1;34m(s, cls, object_hook, parse_float, parse_int, parse_constant, object_pairs_hook, **kw)\u001b[0m\n\u001b[0;32m    343\u001b[0m \u001b[38;5;28;01mif\u001b[39;00m (\u001b[38;5;28mcls\u001b[39m \u001b[38;5;129;01mis\u001b[39;00m \u001b[38;5;28;01mNone\u001b[39;00m \u001b[38;5;129;01mand\u001b[39;00m object_hook \u001b[38;5;129;01mis\u001b[39;00m \u001b[38;5;28;01mNone\u001b[39;00m \u001b[38;5;129;01mand\u001b[39;00m\n\u001b[0;32m    344\u001b[0m         parse_int \u001b[38;5;129;01mis\u001b[39;00m \u001b[38;5;28;01mNone\u001b[39;00m \u001b[38;5;129;01mand\u001b[39;00m parse_float \u001b[38;5;129;01mis\u001b[39;00m \u001b[38;5;28;01mNone\u001b[39;00m \u001b[38;5;129;01mand\u001b[39;00m\n\u001b[0;32m    345\u001b[0m         parse_constant \u001b[38;5;129;01mis\u001b[39;00m \u001b[38;5;28;01mNone\u001b[39;00m \u001b[38;5;129;01mand\u001b[39;00m object_pairs_hook \u001b[38;5;129;01mis\u001b[39;00m \u001b[38;5;28;01mNone\u001b[39;00m \u001b[38;5;129;01mand\u001b[39;00m \u001b[38;5;129;01mnot\u001b[39;00m kw):\n\u001b[1;32m--> 346\u001b[0m     \u001b[38;5;28;01mreturn\u001b[39;00m \u001b[43m_default_decoder\u001b[49m\u001b[38;5;241;43m.\u001b[39;49m\u001b[43mdecode\u001b[49m\u001b[43m(\u001b[49m\u001b[43ms\u001b[49m\u001b[43m)\u001b[49m\n\u001b[0;32m    347\u001b[0m \u001b[38;5;28;01mif\u001b[39;00m \u001b[38;5;28mcls\u001b[39m \u001b[38;5;129;01mis\u001b[39;00m \u001b[38;5;28;01mNone\u001b[39;00m:\n",
      "File \u001b[1;32mC:\\Program Files\\WindowsApps\\PythonSoftwareFoundation.Python.3.10_3.10.2288.0_x64__qbz5n2kfra8p0\\lib\\json\\decoder.py:337\u001b[0m, in \u001b[0;36mJSONDecoder.decode\u001b[1;34m(self, s, _w)\u001b[0m\n\u001b[0;32m    333\u001b[0m \u001b[38;5;124;03m\"\"\"Return the Python representation of ``s`` (a ``str`` instance\u001b[39;00m\n\u001b[0;32m    334\u001b[0m \u001b[38;5;124;03mcontaining a JSON document).\u001b[39;00m\n\u001b[0;32m    335\u001b[0m \n\u001b[0;32m    336\u001b[0m \u001b[38;5;124;03m\"\"\"\u001b[39;00m\n\u001b[1;32m--> 337\u001b[0m obj, end \u001b[38;5;241m=\u001b[39m \u001b[38;5;28;43mself\u001b[39;49m\u001b[38;5;241;43m.\u001b[39;49m\u001b[43mraw_decode\u001b[49m\u001b[43m(\u001b[49m\u001b[43ms\u001b[49m\u001b[43m,\u001b[49m\u001b[43m \u001b[49m\u001b[43midx\u001b[49m\u001b[38;5;241;43m=\u001b[39;49m\u001b[43m_w\u001b[49m\u001b[43m(\u001b[49m\u001b[43ms\u001b[49m\u001b[43m,\u001b[49m\u001b[43m \u001b[49m\u001b[38;5;241;43m0\u001b[39;49m\u001b[43m)\u001b[49m\u001b[38;5;241;43m.\u001b[39;49m\u001b[43mend\u001b[49m\u001b[43m(\u001b[49m\u001b[43m)\u001b[49m\u001b[43m)\u001b[49m\n\u001b[0;32m    338\u001b[0m end \u001b[38;5;241m=\u001b[39m _w(s, end)\u001b[38;5;241m.\u001b[39mend()\n",
      "File \u001b[1;32mC:\\Program Files\\WindowsApps\\PythonSoftwareFoundation.Python.3.10_3.10.2288.0_x64__qbz5n2kfra8p0\\lib\\json\\decoder.py:355\u001b[0m, in \u001b[0;36mJSONDecoder.raw_decode\u001b[1;34m(self, s, idx)\u001b[0m\n\u001b[0;32m    354\u001b[0m \u001b[38;5;28;01mexcept\u001b[39;00m \u001b[38;5;167;01mStopIteration\u001b[39;00m \u001b[38;5;28;01mas\u001b[39;00m err:\n\u001b[1;32m--> 355\u001b[0m     \u001b[38;5;28;01mraise\u001b[39;00m JSONDecodeError(\u001b[38;5;124m\"\u001b[39m\u001b[38;5;124mExpecting value\u001b[39m\u001b[38;5;124m\"\u001b[39m, s, err\u001b[38;5;241m.\u001b[39mvalue) \u001b[38;5;28;01mfrom\u001b[39;00m \u001b[38;5;28mNone\u001b[39m\n\u001b[0;32m    356\u001b[0m \u001b[38;5;28;01mreturn\u001b[39;00m obj, end\n",
      "\u001b[1;31mJSONDecodeError\u001b[0m: Expecting value: line 1 column 1 (char 0)",
      "\nDuring handling of the above exception, another exception occurred:\n",
      "\u001b[1;31mJSONDecodeError\u001b[0m                           Traceback (most recent call last)",
      "Cell \u001b[1;32mIn [8], line 4\u001b[0m\n\u001b[0;32m      2\u001b[0m \u001b[38;5;28;01mfor\u001b[39;00m stock \u001b[38;5;129;01min\u001b[39;00m stocks[\u001b[38;5;124m'\u001b[39m\u001b[38;5;124mTicker\u001b[39m\u001b[38;5;124m'\u001b[39m]:\n\u001b[0;32m      3\u001b[0m     api_url \u001b[38;5;241m=\u001b[39m \u001b[38;5;124mf\u001b[39m\u001b[38;5;124m'\u001b[39m\u001b[38;5;124mhttps://sandbox.iexapis.com/stable/stock/\u001b[39m\u001b[38;5;132;01m{\u001b[39;00mstock\u001b[38;5;132;01m}\u001b[39;00m\u001b[38;5;124m/quote?token=\u001b[39m\u001b[38;5;132;01m{\u001b[39;00mIEX_CLOUD_API_TOKEN\u001b[38;5;132;01m}\u001b[39;00m\u001b[38;5;124m'\u001b[39m\n\u001b[1;32m----> 4\u001b[0m     data \u001b[38;5;241m=\u001b[39m \u001b[43mrequests\u001b[49m\u001b[38;5;241;43m.\u001b[39;49m\u001b[43mget\u001b[49m\u001b[43m(\u001b[49m\u001b[43mapi_url\u001b[49m\u001b[43m)\u001b[49m\u001b[38;5;241;43m.\u001b[39;49m\u001b[43mjson\u001b[49m\u001b[43m(\u001b[49m\u001b[43m)\u001b[49m\n\u001b[0;32m      5\u001b[0m     final_dataframe \u001b[38;5;241m=\u001b[39m final_dataframe\u001b[38;5;241m.\u001b[39mappend(\n\u001b[0;32m      6\u001b[0m         pd\u001b[38;5;241m.\u001b[39mSeries(\n\u001b[0;32m      7\u001b[0m         [\n\u001b[1;32m   (...)\u001b[0m\n\u001b[0;32m     14\u001b[0m     ignore_index \u001b[38;5;241m=\u001b[39m \u001b[38;5;28;01mTrue\u001b[39;00m\n\u001b[0;32m     15\u001b[0m     )\n",
      "File \u001b[1;32m~\\AppData\\Local\\Packages\\PythonSoftwareFoundation.Python.3.10_qbz5n2kfra8p0\\LocalCache\\local-packages\\Python310\\site-packages\\requests\\models.py:968\u001b[0m, in \u001b[0;36mResponse.json\u001b[1;34m(self, **kwargs)\u001b[0m\n\u001b[0;32m    966\u001b[0m             \u001b[38;5;28;01mpass\u001b[39;00m\n\u001b[0;32m    967\u001b[0m         \u001b[38;5;28;01mexcept\u001b[39;00m JSONDecodeError \u001b[38;5;28;01mas\u001b[39;00m e:\n\u001b[1;32m--> 968\u001b[0m             \u001b[38;5;28;01mraise\u001b[39;00m RequestsJSONDecodeError(e\u001b[38;5;241m.\u001b[39mmsg, e\u001b[38;5;241m.\u001b[39mdoc, e\u001b[38;5;241m.\u001b[39mpos)\n\u001b[0;32m    970\u001b[0m \u001b[38;5;28;01mtry\u001b[39;00m:\n\u001b[0;32m    971\u001b[0m     \u001b[38;5;28;01mreturn\u001b[39;00m complexjson\u001b[38;5;241m.\u001b[39mloads(\u001b[38;5;28mself\u001b[39m\u001b[38;5;241m.\u001b[39mtext, \u001b[38;5;241m*\u001b[39m\u001b[38;5;241m*\u001b[39mkwargs)\n",
      "\u001b[1;31mJSONDecodeError\u001b[0m: Expecting value: line 1 column 1 (char 0)"
     ]
    }
   ],
   "source": [
    "final_dataframe = pd.DataFrame(columns = my_columns)\n",
    "for stock in stocks['Ticker']:\n",
    "    api_url = f'https://sandbox.iexapis.com/stable/stock/{stock}/quote?token={IEX_CLOUD_API_TOKEN}'\n",
    "    data = requests.get(api_url).json()\n",
    "    final_dataframe = final_dataframe.append(\n",
    "        pd.Series(\n",
    "        [\n",
    "            stock,\n",
    "            data['latestPrice'],\n",
    "            data['marketCap'],\n",
    "            'N/A',\n",
    "        ],\n",
    "        index = my_columns),\n",
    "    ignore_index = True\n",
    "    )"
   ]
  },
  {
   "cell_type": "code",
   "execution_count": null,
   "metadata": {},
   "outputs": [],
   "source": [
    "final_dataframe"
   ]
  },
  {
   "cell_type": "markdown",
   "metadata": {},
   "source": [
    "## Using Batch API Calls to Improve Performance\n",
    "\n",
    "Batch API calls are one of the easiest ways to improve the performance of your code.\n",
    "\n",
    "This is because HTTP requests are typically one of the slowest components of a script.\n",
    "\n",
    "Also, API providers will often give you discounted rates for using batch API calls since they are easier for the API provider to respond to.\n",
    "\n",
    "IEX Cloud limits their batch API calls to 100 tickers per request. Still, this reduces the number of API calls we'll make in this section from 500 to 5 - huge improvement! In this section, we'll split our list of stocks into groups of 100 and then make a batch API call for each group."
   ]
  },
  {
   "cell_type": "code",
   "execution_count": null,
   "metadata": {},
   "outputs": [],
   "source": []
  },
  {
   "cell_type": "code",
   "execution_count": null,
   "metadata": {},
   "outputs": [],
   "source": []
  },
  {
   "cell_type": "markdown",
   "metadata": {},
   "source": [
    "## Calculating the Number of Shares to Buy\n",
    "\n",
    "As you can see in the DataFrame above, we stil haven't calculated the number of shares of each stock to buy.\n",
    "\n",
    "We'll do that next."
   ]
  },
  {
   "cell_type": "code",
   "execution_count": null,
   "metadata": {},
   "outputs": [],
   "source": []
  },
  {
   "cell_type": "code",
   "execution_count": null,
   "metadata": {},
   "outputs": [],
   "source": []
  },
  {
   "cell_type": "markdown",
   "metadata": {},
   "source": [
    "## Formatting Our Excel Output\n",
    "\n",
    "We will be using the XlsxWriter library for Python to create nicely-formatted Excel files.\n",
    "\n",
    "XlsxWriter is an excellent package and offers tons of customization. However, the tradeoff for this is that the library can seem very complicated to new users. Accordingly, this section will be fairly long because I want to do a good job of explaining how XlsxWriter works.\n",
    "\n",
    "### Initializing our XlsxWriter Object"
   ]
  },
  {
   "cell_type": "code",
   "execution_count": null,
   "metadata": {},
   "outputs": [],
   "source": []
  },
  {
   "cell_type": "markdown",
   "metadata": {},
   "source": [
    "### Creating the Formats We'll Need For Our `.xlsx` File\n",
    "\n",
    "Formats include colors, fonts, and also symbols like `%` and `$`. We'll need four main formats for our Excel document:\n",
    "* String format for tickers\n",
    "* \\\\$XX.XX format for stock prices\n",
    "* \\\\$XX,XXX format for market capitalization\n",
    "* Integer format for the number of shares to purchase"
   ]
  },
  {
   "cell_type": "code",
   "execution_count": null,
   "metadata": {},
   "outputs": [],
   "source": []
  },
  {
   "cell_type": "markdown",
   "metadata": {},
   "source": [
    "### Applying the Formats to the Columns of Our `.xlsx` File\n",
    "\n",
    "We can use the `set_column` method applied to the `writer.sheets['Recommended Trades']` object to apply formats to specific columns of our spreadsheets.\n",
    "\n",
    "Here's an example:\n",
    "\n",
    "```python\n",
    "writer.sheets['Recommended Trades'].set_column('B:B', #This tells the method to apply the format to column B\n",
    "                     18, #This tells the method to apply a column width of 18 pixels\n",
    "                     string_template #This applies the format 'string_template' to the column\n",
    "                    )\n",
    "```"
   ]
  },
  {
   "cell_type": "code",
   "execution_count": null,
   "metadata": {},
   "outputs": [],
   "source": []
  },
  {
   "cell_type": "markdown",
   "metadata": {},
   "source": [
    "This code works, but it violates the software principle of \"Don't Repeat Yourself\". \n",
    "\n",
    "Let's simplify this by putting it in 2 loops:"
   ]
  },
  {
   "cell_type": "code",
   "execution_count": null,
   "metadata": {},
   "outputs": [],
   "source": []
  },
  {
   "cell_type": "markdown",
   "metadata": {},
   "source": [
    "## Saving Our Excel Output\n",
    "\n",
    "Saving our Excel file is very easy:"
   ]
  },
  {
   "cell_type": "code",
   "execution_count": null,
   "metadata": {},
   "outputs": [],
   "source": []
  }
 ],
 "metadata": {
  "kernelspec": {
   "display_name": "Python 3 (ipykernel)",
   "language": "python",
   "name": "python3"
  },
  "language_info": {
   "codemirror_mode": {
    "name": "ipython",
    "version": 3
   },
   "file_extension": ".py",
   "mimetype": "text/x-python",
   "name": "python",
   "nbconvert_exporter": "python",
   "pygments_lexer": "ipython3",
   "version": "3.10.8"
  }
 },
 "nbformat": 4,
 "nbformat_minor": 4
}
